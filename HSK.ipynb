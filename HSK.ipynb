{
 "cells": [
  {
   "cell_type": "code",
   "execution_count": null,
   "id": "e36de2d4",
   "metadata": {},
   "outputs": [],
   "source": [
    "#Histogram\n",
    "# talk about the feqeunce(repetation)\n",
    "# Graph representation of Frequence\n",
    "# Counts should be Y axis\n",
    "\n",
    "#Skewness\n",
    "# Talk about range of mean, meduan and mode\n",
    "# Skewness is ameasure of symmetry or lack of symmetry (Peakness), Relationship of Mean , Meduan and Mode\n",
    "# Normal Skewness is Mean = Median = Mode (Graph peak should be in center)\n",
    "# positive Skewness is Mode > Mode > Mean (Graph high to low; peak in the lefthand side)\n",
    "# Negative Skewness Mean < Median < Mode (Graph low Skewness to high; peak in the righthand side)\n",
    "\n",
    "#Kurtosis\n",
    "# A measure of the peakness or convexity of a curve is known as Kurtosis\n",
    "    # Platykurtic  <3 - borad graph\n",
    "    # mesokurtic  = 3 = normal graph\n",
    "    # loptokurtics >3 shirnk graph"
   ]
  },
  {
   "cell_type": "code",
   "execution_count": 1,
   "id": "70ef264a",
   "metadata": {},
   "outputs": [],
   "source": [
    "import pandas as pd\n",
    "from  Univariate import Univariate"
   ]
  },
  {
   "cell_type": "code",
   "execution_count": 2,
   "id": "40246798",
   "metadata": {},
   "outputs": [],
   "source": [
    "dataset = pd.read_csv(\"data.csv\")"
   ]
  },
  {
   "cell_type": "code",
   "execution_count": 3,
   "id": "ae64837b",
   "metadata": {},
   "outputs": [],
   "source": [
    "quan, qual = Univariate.QuanQual(dataset)"
   ]
  },
  {
   "cell_type": "code",
   "execution_count": null,
   "id": "331b9199",
   "metadata": {},
   "outputs": [
    {
     "data": {
      "text/plain": [
       "np.float64(24.790932561757053)"
      ]
     },
     "execution_count": 4,
     "metadata": {},
     "output_type": "execute_result"
    }
   ],
   "source": [
    "descriptive = Univariate.hsk(dataset, quan)\n",
    "descriptive"
   ]
  },
  {
   "cell_type": "code",
   "execution_count": 5,
   "id": "42a09239",
   "metadata": {},
   "outputs": [
    {
     "data": {
      "text/plain": [
       "np.float64(1044.3521511267897)"
      ]
     },
     "execution_count": 5,
     "metadata": {},
     "output_type": "execute_result"
    }
   ],
   "source": [
    "dataset[\"price\"].kurtosis()"
   ]
  }
 ],
 "metadata": {
  "kernelspec": {
   "display_name": "Python 3",
   "language": "python",
   "name": "python3"
  },
  "language_info": {
   "codemirror_mode": {
    "name": "ipython",
    "version": 3
   },
   "file_extension": ".py",
   "mimetype": "text/x-python",
   "name": "python",
   "nbconvert_exporter": "python",
   "pygments_lexer": "ipython3",
   "version": "3.11.9"
  }
 },
 "nbformat": 4,
 "nbformat_minor": 5
}
